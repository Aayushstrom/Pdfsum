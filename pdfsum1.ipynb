{
 "cells": [
  {
   "cell_type": "code",
   "execution_count": 3,
   "metadata": {},
   "outputs": [
    {
     "name": "stdout",
     "output_type": "stream",
     "text": [
      "Looking in indexes: https://pypi.org/simple, https://pypi.ngc.nvidia.com\n",
      "Collecting PyPDF2\n",
      "  Downloading pypdf2-3.0.1-py3-none-any.whl.metadata (6.8 kB)\n",
      "Requirement already satisfied: typing_extensions>=3.10.0.0 in /home/omnesvera45/miniconda3/envs/testingopenai/lib/python3.8/site-packages (from PyPDF2) (4.12.2)\n",
      "Downloading pypdf2-3.0.1-py3-none-any.whl (232 kB)\n",
      "Installing collected packages: PyPDF2\n",
      "Successfully installed PyPDF2-3.0.1\n",
      "Note: you may need to restart the kernel to use updated packages.\n"
     ]
    }
   ],
   "source": [
    "%pip install PyPDF2"
   ]
  },
  {
   "cell_type": "code",
   "execution_count": 1,
   "metadata": {},
   "outputs": [],
   "source": [
    "import re\n",
    "from PyPDF2 import PdfReader\n",
    "\n",
    "def preprocess_text(text):\n",
    "    \"\"\"\n",
    "    Clean and preprocess text by removing unwanted characters and extra spaces.\n",
    "    \"\"\"\n",
    "    text = re.sub(r'\\s+', ' ', text)  # Replace multiple spaces with a single space\n",
    "    text = re.sub(r'[^\\w\\s.,;!?]', '', text)  # Remove non-alphanumeric characters\n",
    "    return text.strip()\n"
   ]
  },
  {
   "cell_type": "code",
   "execution_count": 2,
   "metadata": {},
   "outputs": [],
   "source": [
    "def split_text(text, max_chunk_size=1000):\n",
    "    \"\"\"\n",
    "    Split text into chunks within the token limit.\n",
    "    \"\"\"\n",
    "    words = text.split()\n",
    "    for i in range(0, len(words), max_chunk_size):\n",
    "        yield \" \".join(words[i:i + max_chunk_size])\n"
   ]
  },
  {
   "cell_type": "code",
   "execution_count": 3,
   "metadata": {},
   "outputs": [
    {
     "name": "stderr",
     "output_type": "stream",
     "text": [
      "/home/omnesvera45/miniconda3/envs/testingopenai/lib/python3.8/site-packages/tqdm/auto.py:21: TqdmWarning: IProgress not found. Please update jupyter and ipywidgets. See https://ipywidgets.readthedocs.io/en/stable/user_install.html\n",
      "  from .autonotebook import tqdm as notebook_tqdm\n",
      "Hardware accelerator e.g. GPU is available in the environment, but no `device` argument is passed to the `Pipeline` object. Model will be on CPU.\n"
     ]
    }
   ],
   "source": [
    "from transformers import pipeline\n",
    "\n",
    "# Load the summarizer\n",
    "summarizer = pipeline(\"summarization\", model=\"facebook/bart-large-cnn\")\n",
    "\n",
    "def summarize_chunks(text_chunks, max_length=130, min_length=30):\n",
    "    \"\"\"\n",
    "    Summarize each chunk and combine the summaries.\n",
    "    \"\"\"\n",
    "    summaries = []\n",
    "    for i, chunk in enumerate(text_chunks):\n",
    "        try:\n",
    "            summary = summarizer(chunk, max_length=max_length, min_length=min_length, do_sample=False)[0]['summary_text']\n",
    "            summaries.append(summary)\n",
    "        except Exception as e:\n",
    "            print(f\"Error summarizing chunk {i}: {e}\")\n",
    "    return \" \".join(summaries)\n"
   ]
  },
  {
   "cell_type": "code",
   "execution_count": null,
   "metadata": {},
   "outputs": [],
   "source": [
    "def extract_and_summarize(pdf_file):\n",
    "    \"\"\"\n",
    "    Extract text from a PDF file, preprocess, and summarize.\n",
    "    \"\"\"\n",
    "    # Step 1: Read the PDF\n",
    "    reader = PdfReader(pdf_file)\n",
    "    document_text = \"\"\n",
    "    for page in reader.pages:\n",
    "        document_text += page.extract_text()\n",
    "\n",
    "    # Step 2: Preprocess the text\n",
    "    cleaned_text = preprocess_text(document_text)\n",
    "\n",
    "    # Step 3: Split the text into chunks\n",
    "    text_chunks = list(split_text(cleaned_text, max_chunk_size=1000))\n",
    "\n",
    "    # Step 4: Summarize each chunk\n",
    "    summary = summarize_chunks(text_chunks)\n",
    "    return summary\n"
   ]
  },
  {
   "cell_type": "code",
   "execution_count": 5,
   "metadata": {},
   "outputs": [
    {
     "name": "stderr",
     "output_type": "stream",
     "text": [
      "2024-11-29 15:28:40.724 WARNING streamlit.runtime.scriptrunner_utils.script_run_context: Thread 'MainThread': missing ScriptRunContext! This warning can be ignored when running in bare mode.\n",
      "2024-11-29 15:28:41.109 \n",
      "  \u001b[33m\u001b[1mWarning:\u001b[0m to view this Streamlit app on a browser, run it with the following\n",
      "  command:\n",
      "\n",
      "    streamlit run /home/omnesvera45/miniconda3/envs/testingopenai/lib/python3.8/site-packages/ipykernel_launcher.py [ARGUMENTS]\n",
      "2024-11-29 15:28:41.110 Thread 'MainThread': missing ScriptRunContext! This warning can be ignored when running in bare mode.\n",
      "2024-11-29 15:28:41.113 Thread 'MainThread': missing ScriptRunContext! This warning can be ignored when running in bare mode.\n",
      "2024-11-29 15:28:41.114 Thread 'MainThread': missing ScriptRunContext! This warning can be ignored when running in bare mode.\n",
      "2024-11-29 15:28:41.116 Thread 'MainThread': missing ScriptRunContext! This warning can be ignored when running in bare mode.\n",
      "2024-11-29 15:28:41.117 Thread 'MainThread': missing ScriptRunContext! This warning can be ignored when running in bare mode.\n",
      "2024-11-29 15:28:41.119 Thread 'MainThread': missing ScriptRunContext! This warning can be ignored when running in bare mode.\n",
      "2024-11-29 15:28:41.121 Thread 'MainThread': missing ScriptRunContext! This warning can be ignored when running in bare mode.\n",
      "2024-11-29 15:28:41.122 Thread 'MainThread': missing ScriptRunContext! This warning can be ignored when running in bare mode.\n",
      "2024-11-29 15:28:41.126 Thread 'MainThread': missing ScriptRunContext! This warning can be ignored when running in bare mode.\n",
      "2024-11-29 15:28:41.127 Thread 'MainThread': missing ScriptRunContext! This warning can be ignored when running in bare mode.\n"
     ]
    }
   ],
   "source": [
    "import streamlit as st\n",
    "\n",
    "# Streamlit interface\n",
    "st.title(\"Intelligent PDF Summarizer\")\n",
    "st.write(\"Upload a large PDF document to summarize its content.\")\n",
    "\n",
    "# File upload\n",
    "uploaded_file = st.file_uploader(\"Upload a PDF\", type=[\"pdf\"])\n",
    "\n",
    "if uploaded_file:\n",
    "    with st.spinner(\"Processing...\"):\n",
    "        try:\n",
    "            # Extract and summarize the PDF content\n",
    "            summary = extract_and_summarize(uploaded_file)\n",
    "            st.success(\"Summarization complete!\")\n",
    "            st.subheader(\"Summary\")\n",
    "            st.write(summary)\n",
    "        except Exception as e:\n",
    "            st.error(f\"An error occurred: {e}\")\n"
   ]
  },
  {
   "cell_type": "code",
   "execution_count": null,
   "metadata": {},
   "outputs": [],
   "source": []
  }
 ],
 "metadata": {
  "kernelspec": {
   "display_name": "testingopenai",
   "language": "python",
   "name": "python3"
  },
  "language_info": {
   "codemirror_mode": {
    "name": "ipython",
    "version": 3
   },
   "file_extension": ".py",
   "mimetype": "text/x-python",
   "name": "python",
   "nbconvert_exporter": "python",
   "pygments_lexer": "ipython3",
   "version": "3.8.20"
  }
 },
 "nbformat": 4,
 "nbformat_minor": 2
}
